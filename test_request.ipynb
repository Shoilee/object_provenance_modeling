{
 "cells": [
  {
   "cell_type": "code",
   "execution_count": 1,
   "id": "5c570682",
   "metadata": {},
   "outputs": [],
   "source": [
    "import requests\n",
    "from requests.structures import CaseInsensitiveDict\n",
    "\n",
    "def get_URL_response(URL):\n",
    "    try:\n",
    "        headers = CaseInsensitiveDict()\n",
    "        headers[\"Accept\"] = \"text/turtle\"\n",
    "        r = requests.get(url=URL, headers=headers, timeout=60)\n",
    "        return r\n",
    "    except ConnectionError as e:\n",
    "        print(f\"{URL} cannot be found\")\n",
    "        return e\n",
    "    except Exception as e:\n",
    "        print(e)\n",
    "        return e"
   ]
  },
  {
   "cell_type": "code",
   "execution_count": 2,
   "id": "aff681ae",
   "metadata": {},
   "outputs": [],
   "source": [
    "def response_to_file(ttl_text, destination_file):\n",
    "    \"\"\"\n",
    "    Receive http response turtle response and store it in file\n",
    "    :param ttl_text: the response is expected in turtle format\n",
    "    :param destination_file: location where the graph will be stored\n",
    "    :return:\n",
    "    \"\"\"\n",
    "    from rdflib import Graph\n",
    "    g = Graph()\n",
    "    g.parse(data=ttl_text, format='ttl')\n",
    "\n",
    "    # Loop through each triple in the graph (subj, pred, obj)\n",
    "    for subj, pred, obj in g:\n",
    "        # Check if there is at least one triple in the Graph\n",
    "        if (subj, pred, obj) not in g:\n",
    "            return EmptyGraphError\n",
    "\n",
    "    g.serialize(destination=destination_file)"
   ]
  },
  {
   "cell_type": "code",
   "execution_count": 6,
   "id": "552860b4",
   "metadata": {},
   "outputs": [],
   "source": [
    "url = \"https://linkedart.wereldculturen.nl/ccrdf/ccrdfhiseve.py?command=search&query=*=https://hdl.handle.net/20.500.11840/event436\"\n",
    "\n",
    "response_to_file(get_URL_response(url).text, 'histevent_1.ttl')"
   ]
  },
  {
   "cell_type": "code",
   "execution_count": null,
   "id": "0ef0c55c",
   "metadata": {},
   "outputs": [],
   "source": [
    "type(response.text)"
   ]
  },
  {
   "cell_type": "code",
   "execution_count": null,
   "id": "bac6f67e",
   "metadata": {},
   "outputs": [],
   "source": [
    "get_URL_response(url).status_code"
   ]
  }
 ],
 "metadata": {
  "kernelspec": {
   "display_name": "dh_linking",
   "language": "python",
   "name": "dh_linking"
  },
  "language_info": {
   "codemirror_mode": {
    "name": "ipython",
    "version": 3
   },
   "file_extension": ".py",
   "mimetype": "text/x-python",
   "name": "python",
   "nbconvert_exporter": "python",
   "pygments_lexer": "ipython3",
   "version": "3.9.12"
  }
 },
 "nbformat": 4,
 "nbformat_minor": 5
}
